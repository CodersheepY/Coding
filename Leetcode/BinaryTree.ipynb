{
 "cells": [
  {
   "cell_type": "markdown",
   "metadata": {},
   "source": [
    "## Fundamentals of Binary Tree Theory\n",
    "\n",
    "### Types of binary trees\n",
    "\n",
    "full binary tree\n",
    "\n",
    "complete binary tree\n",
    "\n",
    "binary search tree\n",
    "\n",
    "balanced binary search tree(Adelson-Velsky and Landis)\n",
    "\n",
    "### Storage of binary trees\n",
    "\n",
    "### Traversal of a binary tree\n",
    "\n",
    "### Definition of a binary tree"
   ]
  },
  {
   "cell_type": "code",
   "execution_count": null,
   "metadata": {},
   "outputs": [],
   "source": [
    "class TreeNode:\n",
    "    def __init__(self, val, left = None, right = None):\n",
    "        self.val = val\n",
    "        self.left = left\n",
    "        self.right = right\n",
    "        "
   ]
  },
  {
   "cell_type": "markdown",
   "metadata": {},
   "source": [
    "## Recursive traversal of a binary tree\n"
   ]
  }
 ],
 "metadata": {
  "language_info": {
   "name": "python"
  }
 },
 "nbformat": 4,
 "nbformat_minor": 2
}
